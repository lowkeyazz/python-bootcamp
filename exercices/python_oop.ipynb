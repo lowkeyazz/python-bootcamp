{
 "cells": [
  {
   "cell_type": "markdown",
   "metadata": {},
   "source": [
    "## Exercise 1:\n",
    "\n",
    "- consedering the following code\n",
    "\n",
    "```python\n",
    "import datetime # we will use this for date objects\n",
    "\n",
    "class Person:\n",
    "\n",
    "    def __init__(self, name, surname, birthdate, address, telephone, email):\n",
    "        self.name = name\n",
    "        self.surname = surname\n",
    "        self.birthdate = birthdate\n",
    "\n",
    "        self.address = address\n",
    "        self.telephone = telephone\n",
    "        self.email = email\n",
    "\n",
    "    def age(self):\n",
    "        today = datetime.date.today()\n",
    "        age = today.year - self.birthdate.year\n",
    "\n",
    "        if today < datetime.date(today.year, self.birthdate.month, self.birthdate.day):\n",
    "            age -= 1\n",
    "\n",
    "        return age\n",
    "\n",
    "person = Person(\n",
    "    \"Jane\",\n",
    "    \"Doe\",\n",
    "    datetime.date(1992, 3, 12), # year, month, day\n",
    "    \"No. 12 Short Street, Greenville\",\n",
    "    \"555 456 0987\",\n",
    "    \"jane.doe@example.com\"\n",
    ")\n",
    "\n",
    "print(person.name)\n",
    "print(person.email)\n",
    "print(person.age())\n",
    "```\n",
    "Explain what the following variables refer to, and their scope:\n",
    "1. Person\n",
    "2. person\n",
    "3. surname\n",
    "4. self\n",
    "5. age (the function name)\n",
    "6. age (the variable used inside the function)\n",
    "7. self.email\n",
    "8. person.email"
   ]
  },
  {
   "cell_type": "markdown",
   "metadata": {},
   "source": [
    "### write your answer here\n",
    "1.  The class name\n",
    "2.  the new object \n",
    "3.  a class Person attribut\n",
    "4.  link attributs with arguments\n",
    "5.  calculate the age for class Person\n",
    "6.  the object's age\n",
    "7.  the object's email\n",
    "8.  the object person's email"
   ]
  },
  {
   "cell_type": "markdown",
   "metadata": {},
   "source": [
    "## Exercise 2\n",
    "1. Rewrite the `Person` class so that a person’s age is calculated for the first time when a new person instance is created, and recalculated (when it is requested) if the day has changed since the last time that it was calculated."
   ]
  },
  {
   "cell_type": "code",
   "execution_count": 6,
   "metadata": {},
   "outputs": [
    {
     "name": "stdout",
     "output_type": "stream",
     "text": [
      "Jane\n",
      "30\n"
     ]
    }
   ],
   "source": [
    "import datetime # we will use this for date objects\n",
    "import sys\n",
    "class Person:\n",
    "    \n",
    "    def __init__(self, name, surname, birthdate, address, telephone, email):\n",
    "        self.name = name\n",
    "        self.surname = surname\n",
    "        self.birthdate = birthdate\n",
    "\n",
    "        self.address = address\n",
    "        self.telephone = telephone\n",
    "        self.email = email\n",
    "        self.age = self.age()\n",
    "\n",
    "    def age(self):\n",
    "        today = datetime.date.today()\n",
    "        age = today.year - self.birthdate.year\n",
    "        if today > datetime.date(self.birthdate.year, self.birthdate.month, self.birthdate.day):\n",
    "            age += 0\n",
    "        return age\n",
    "\n",
    "person = Person(\n",
    "    \"Jane\",\n",
    "    \"Doe\",\n",
    "    datetime.date(1992, 3, 12), # year, month, day\n",
    "    \"No. 12 Short Street, Greenville\",\n",
    "    \"555 456 0987\",\n",
    "    \"jane.doe@example.com\"\n",
    ")\n",
    "print(person.name)\n",
    "print(person.age)"
   ]
  },
  {
   "cell_type": "markdown",
   "metadata": {},
   "source": [
    "## Exercise 3\n",
    "1. Explain the differences between the attributes `name`, `surname` and `profession`, and what values they can have in different instances of this class:\n",
    "```python\n",
    "class Smith:\n",
    "    surname = \"Smith\"\n",
    "    profession = \"smith\"\n",
    "\n",
    "    def __init__(self, name, profession=None):\n",
    "        self.name = name\n",
    "        if profession is not None:\n",
    "            self.profession = profession\n",
    "```"
   ]
  },
  {
   "cell_type": "markdown",
   "metadata": {},
   "source": [
    "### The attribut name is always given at initialisation \n",
    "\n",
    "### The attribut surname is not affected to the class\n",
    "\n",
    "### The attribut profession is usually initialised at None if not it's smith\n"
   ]
  },
  {
   "cell_type": "markdown",
   "metadata": {},
   "source": [
    "## Exercise 4:\n",
    "1. Create a class called `Numbers`, which has a single class attribute called `MULTIPLIER`, and a constructor which takes the parameters `x` and `y` (these should all be numbers).\n",
    "    1. Write a method called `add` which returns the sum of the attributes `x` and `y`.\n",
    "    2. Write a class method called `multiply`, which takes a single number parameter `a` and returns the product of `a` and `MULTIPLIER`.\n",
    "    3. Write a static method called `subtract`, which takes two number parameters, `b` and `c`, and returns `b - c`.\n",
    "    4. Write a method called `value` which returns a tuple containing the values of `x` and `y`. Make this method into a property, and write a setter and a deleter for manipulating the values of `x` and `y`."
   ]
  },
  {
   "cell_type": "code",
   "execution_count": 64,
   "metadata": {},
   "outputs": [
    {
     "name": "stdout",
     "output_type": "stream",
     "text": [
      "2\n",
      "3\n",
      "12\n",
      "5\n",
      "getter method called\n",
      "(2, 3)\n",
      "setter method called\n",
      "getter method called\n",
      "(3, 3)\n"
     ]
    }
   ],
   "source": [
    "class Numbers:\n",
    "    def __init__(self,x,y,Multiplier = 3):\n",
    "        self.x= x\n",
    "        self.y= y\n",
    "        self.Multiplier = Multiplier\n",
    "        if type(x) != int:\n",
    "                sys.exit(\" x Must be a number \")\n",
    "        if type(y) != int:\n",
    "                sys.exit(\" y Must be a number \")\n",
    "    def add(self):\n",
    "        return self.x + self.y\n",
    "    def multiply(self,a):\n",
    "        return a*self.Multiplier\n",
    "    @property\n",
    "    def value(self):\n",
    "        print(\"getter method called\")\n",
    "        return (self.x,self.y)\n",
    "    @value.setter\n",
    "    def value(self,val):\n",
    "        print(\"setter method called\")\n",
    "        self.x=val[0]\n",
    "        self.y=val[1]\n",
    "\n",
    "def substract(b,c):\n",
    "    return b-c\n",
    "num=Numbers(2,3)\n",
    "print(num.x)\n",
    "print(num.y)\n",
    "print(num.multiply(4))\n",
    "print(num.add())\n",
    "print(num.value)\n",
    "num.value = (3,3)\n",
    "print(num.value)\n",
    "#num.deletex()\n",
    "    "
   ]
  },
  {
   "cell_type": "markdown",
   "metadata": {},
   "source": [
    "## Exercise 5:\n",
    "1. Create an instance of the `Person` class from example 2. Use the `dir` function on the instance. Then use the `dir` function on the class.\n",
    "    1. What happens if you call the `__str__` method on the instance? Verify that you get the same result if you call the `str` function with the instance as a parameter.\n",
    "    2. What is the type of the instance?\n",
    "    3. What is the type of the class?\n",
    "    4. Write a function which prints out the names and values of all the custom attributes of any object that is passed in as a parameter."
   ]
  },
  {
   "cell_type": "code",
   "execution_count": 69,
   "metadata": {},
   "outputs": [
    {
     "data": {
      "text/plain": [
       "'<__main__.Person object at 0x0000021839121D60>'"
      ]
     },
     "execution_count": 69,
     "metadata": {},
     "output_type": "execute_result"
    }
   ],
   "source": [
    "#dir(person)\n",
    "__str__(person)"
   ]
  },
  {
   "cell_type": "code",
   "execution_count": 7,
   "metadata": {},
   "outputs": [
    {
     "name": "stdout",
     "output_type": "stream",
     "text": [
      "<class 'type'>\n"
     ]
    }
   ],
   "source": [
    "import datetime # we will use this for date objects\n",
    "import sys\n",
    "class Person:\n",
    "    \n",
    "    def __init__(self, name, surname, birthdate, address, telephone, email):\n",
    "        self.name = name\n",
    "        self.surname = surname\n",
    "        self.birthdate = birthdate\n",
    "\n",
    "        self.address = address\n",
    "        self.telephone = telephone\n",
    "        self.email = email\n",
    "        self.age = self.age()\n",
    "\n",
    "    def age(self):\n",
    "        today = datetime.date.today()\n",
    "        age = today.year - self.birthdate.year\n",
    "        if today > datetime.date(self.birthdate.year, self.birthdate.month, self.birthdate.day):\n",
    "            age += 0\n",
    "        return age\n",
    "    def __dir__(self):\n",
    "        return ['name', 'surname','birthdate', 'address', 'telephone','email']\n",
    "    def __str__(self):\n",
    "        return \"My name is {},\\t They call me {},\\tI'm born on {},\\tI live at {},\\tMy number is {},\\tand my email is {}\".format(self.name,self.surname,self.birthdate,self.address,self.telephone,self.email)\n",
    "\n",
    "\n",
    "person2 = Person(\n",
    "    \"Jane\",\n",
    "    \"Doe\",\n",
    "    datetime.date(1992, 3, 12), # year, month, day\n",
    "    \"No. 12 Short Street, Greenville\",\n",
    "    \"555 456 0987\",\n",
    "    \"jane.doe@example.com\"\n",
    ")\n",
    "#dir(person2)\n",
    "#print(person2.__str__())\n",
    "#print(str(person2))\n",
    "#print(type(person2))\n",
    "#print(type(Person))"
   ]
  },
  {
   "cell_type": "markdown",
   "metadata": {},
   "source": [
    "## Exercise 6:\n",
    "Write a class for creating completely generic objects: its `__init__` function should accept any number of keyword parameters, and set them on the object as attributes with the keys as names. Write a `__str__` method for the class – the string it returns should include the name of the class and the values of all the object’s custom instance attributes."
   ]
  },
  {
   "cell_type": "code",
   "execution_count": 8,
   "metadata": {},
   "outputs": [],
   "source": [
    "class Generics:\n",
    "    def __init__(self, **kwargs):\n",
    "        for k, v in kwargs.items():\n",
    "            setattr(self, k, v)\n",
    "\n",
    "    def __str__(self):\n",
    "        attrs = [\"%s=%s\" % (k, v) for (k, v) in self.__dict__.items()]\n",
    "        classname = self.__class__.__name__\n",
    "        return \"%s: %s\" % (classname, \" \".join(attrs))"
   ]
  }
 ],
 "metadata": {
  "kernelspec": {
   "display_name": "Python 3",
   "language": "python",
   "name": "python3"
  },
  "language_info": {
   "codemirror_mode": {
    "name": "ipython",
    "version": 3
   },
   "file_extension": ".py",
   "mimetype": "text/x-python",
   "name": "python",
   "nbconvert_exporter": "python",
   "pygments_lexer": "ipython3",
   "version": "3.9.4"
  }
 },
 "nbformat": 4,
 "nbformat_minor": 2
}
