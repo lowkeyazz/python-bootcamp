{
 "cells": [
  {
   "cell_type": "markdown",
   "id": "66a0a543",
   "metadata": {},
   "source": [
    "# Python Basic Exercises"
   ]
  },
  {
   "cell_type": "markdown",
   "id": "0c1cd8ec",
   "metadata": {},
   "source": [
    "## Exercise 0:\n",
    "\n",
    "create a program that take a name from a user and print hello with the name of the user.\n",
    "- Example:\n",
    "\n",
    "``` input: Hamid```\n",
    "\n",
    "```output: Hello Hamid```\n"
   ]
  },
  {
   "cell_type": "code",
   "execution_count": 1,
   "id": "b9fe2983",
   "metadata": {},
   "outputs": [
    {
     "name": "stdout",
     "output_type": "stream",
     "text": [
      "Enter your name Hamid\n",
      "hello Hamid\n"
     ]
    }
   ],
   "source": [
    "name = input(\"Enter your name \")\n",
    "print(\"hello\", name)"
   ]
  },
  {
   "cell_type": "markdown",
   "id": "4884c029",
   "metadata": {},
   "source": [
    "## Exercise 1:\n",
    "\n",
    "write a program that take a string from a user, and print the string with capitalize the vowels letters {a, o, u, i, e}.\n",
    "\n",
    "**Example:**\n",
    "\n",
    "`hello world`\n",
    "\n",
    "**output:**\n",
    "\n",
    "`hEllO wOrld`"
   ]
  },
  {
   "cell_type": "code",
   "execution_count": 2,
   "id": "a3f8d6f4",
   "metadata": {},
   "outputs": [
    {
     "name": "stdout",
     "output_type": "stream",
     "text": [
      "t E s t "
     ]
    }
   ],
   "source": [
    "# your code goes here\n",
    "def cap_vow(a):\n",
    "    for i in a:\n",
    "        if i in \"aouie\":\n",
    "            print(i.upper(), end = ' ')\n",
    "        else:\n",
    "            print(i, end = ' ')\n",
    "cap_vow('test')"
   ]
  },
  {
   "cell_type": "markdown",
   "id": "ab24c130",
   "metadata": {},
   "source": [
    "## Exercise 2:\n",
    "\n",
    "create a program that take a two numbers from a user and print their sum and multiplication.\n",
    "- Example:\n",
    "\n",
    "```\n",
    "input 1: 3\n",
    "input 2: 4\n",
    "```\n",
    "\n",
    "```\n",
    "program output:\n",
    "\n",
    "multiplication of 3 and 4 is 12\n",
    "sum of 3 and 4 is 7\n",
    "```\n"
   ]
  },
  {
   "cell_type": "code",
   "execution_count": 3,
   "id": "08a81476",
   "metadata": {},
   "outputs": [
    {
     "name": "stdout",
     "output_type": "stream",
     "text": [
      "enter first number 3\n",
      "enter second number 4\n",
      "multiplication of 3 and 4 is 12 \n",
      "sum of 3 and 4 is 7 \n"
     ]
    }
   ],
   "source": [
    "a=int(input('enter first number '))\n",
    "b=int(input('enter second number '))\n",
    "print(\"multiplication of {} and {} is {} \".format(a,b,a*b))\n",
    "print(\"sum of {} and {} is {} \".format(a,b,a+b))"
   ]
  },
  {
   "cell_type": "markdown",
   "id": "42cfa564",
   "metadata": {},
   "source": [
    "## Exercise 3: \n",
    "\n",
    "Display three string “Name”, “Is”, “James” as “Name**Is**James”\n",
    "\n",
    "Use the print() function to format the given words in the mentioned format. Display the ** separator between each string.\n",
    "\n",
    "**Expected Output:**\n",
    "\n",
    "For example: print('Name', 'Is', 'James') will display Name**Is**James"
   ]
  },
  {
   "cell_type": "code",
   "execution_count": 4,
   "id": "4c4b071b",
   "metadata": {},
   "outputs": [
    {
     "name": "stdout",
     "output_type": "stream",
     "text": [
      "NameIsJames\n"
     ]
    }
   ],
   "source": [
    "print('Name','Is','James',sep='')"
   ]
  },
  {
   "cell_type": "markdown",
   "id": "df1581eb",
   "metadata": {},
   "source": [
    "## Exercise 4:\n",
    "\n",
    "Print First 10 natural numbers using while loop\n",
    "\n",
    "*Expected output:*\n",
    "```\n",
    "1\n",
    "2\n",
    "3\n",
    "4\n",
    "5\n",
    "6\n",
    "7\n",
    "8\n",
    "9\n",
    "10\n",
    "```"
   ]
  },
  {
   "cell_type": "code",
   "execution_count": 12,
   "id": "bf55b679",
   "metadata": {},
   "outputs": [
    {
     "name": "stdout",
     "output_type": "stream",
     "text": [
      "1\n",
      "2\n",
      "3\n",
      "4\n",
      "5\n",
      "6\n",
      "7\n",
      "8\n",
      "9\n",
      "10\n"
     ]
    }
   ],
   "source": [
    "i=0\n",
    "while(i<10):\n",
    "    print(i+1)\n",
    "    i+=1"
   ]
  },
  {
   "cell_type": "markdown",
   "id": "7cffa172",
   "metadata": {},
   "source": [
    "## Exercise 5:\n",
    "\n",
    "Write a program to print the following number pattern using a loop.\n",
    "```\n",
    "1 \n",
    "1 2 \n",
    "1 2 3 \n",
    "1 2 3 4 \n",
    "1 2 3 4 5\n",
    "```"
   ]
  },
  {
   "cell_type": "code",
   "execution_count": 47,
   "id": "cdb3264a",
   "metadata": {},
   "outputs": [
    {
     "name": "stdout",
     "output_type": "stream",
     "text": [
      "\n",
      "\n",
      "1 \n",
      "1 2 \n",
      "1 2 3 \n",
      "1 2 3 4 \n",
      "1 2 3 4 5 \n"
     ]
    }
   ],
   "source": [
    "for i in range(7):\n",
    "    for j in range(1,i):\n",
    "        print(j,end=' ')\n",
    "    print(\"\")"
   ]
  },
  {
   "cell_type": "markdown",
   "id": "d2b20a44",
   "metadata": {},
   "source": [
    "## Exercise 5:\n",
    "- write a program that take a number from the user and print the multiplication table of that number.\n",
    "\n",
    "** Example:**\n",
    "5\n",
    "```\n",
    "1 * 5 = 5\n",
    "2 * 5 = 10\n",
    "...\n",
    "12 * 5 = 60\n",
    "```"
   ]
  },
  {
   "cell_type": "code",
   "execution_count": 29,
   "id": "f5350502",
   "metadata": {},
   "outputs": [
    {
     "name": "stdout",
     "output_type": "stream",
     "text": [
      "enter the number 5\n",
      "1 * 5 = 5\n",
      "2 * 5 = 10\n",
      "3 * 5 = 15\n",
      "4 * 5 = 20\n",
      "5 * 5 = 25\n",
      "6 * 5 = 30\n",
      "7 * 5 = 35\n",
      "8 * 5 = 40\n",
      "9 * 5 = 45\n",
      "10 * 5 = 50\n",
      "11 * 5 = 55\n",
      "12 * 5 = 60\n"
     ]
    }
   ],
   "source": [
    "n= int(input('enter the number '))\n",
    "for i in range(1,13):\n",
    "    print(\"{} * {} = {}\".format(i,n,i*n))"
   ]
  },
  {
   "cell_type": "markdown",
   "id": "16fedacf",
   "metadata": {},
   "source": [
    "## Exercise 6: Calculate the multiplication and sum of two numbers"
   ]
  },
  {
   "cell_type": "markdown",
   "id": "6d5db219",
   "metadata": {},
   "source": [
    "Given two integer numbers return their product only if the product is greater than 1000, else return their sum.\n",
    "\n",
    "- given 1:\n",
    "```python\n",
    "number1 = 20\n",
    "number2 = 30\n",
    "```\n",
    "- output:\n",
    "```\n",
    "The result is 600\n",
    "```\n",
    "- given 2:\n",
    "```python\n",
    "number1 = 40\n",
    "number2 = 30\n",
    "```\n",
    "- output:\n",
    "```\n",
    "The result is 70\n",
    "```"
   ]
  },
  {
   "cell_type": "code",
   "execution_count": 32,
   "id": "792fc9d7",
   "metadata": {},
   "outputs": [
    {
     "name": "stdout",
     "output_type": "stream",
     "text": [
      "number1 40\n",
      "number2 30\n",
      "The result is 70\n"
     ]
    }
   ],
   "source": [
    "a=int(input(\"number1 \"))\n",
    "b=int(input(\"number2 \"))\n",
    "if((a*b)>1000):\n",
    "    print(\"The result is \"+str(a+b))\n",
    "else :print(\"The result is \"+str(a*b))"
   ]
  },
  {
   "cell_type": "markdown",
   "id": "7be4b877",
   "metadata": {},
   "source": [
    "## Exercise 5:\n",
    "\n",
    "Check if the first and last number of a list is the same\n",
    "Write a function to return `True` if the first and last number of a given list is same. If numbers are different then return `False`.\n",
    "\n",
    "**Given:**\n",
    "```python\n",
    "numbers_x = [10, 20, 30, 40, 10]\n",
    "numbers_y = [75, 65, 35, 75, 30]\n",
    "```\n",
    "\n",
    "**Expected Output:**\n",
    "```\n",
    "Given list: [10, 20, 30, 40, 10]\n",
    "result is True\n",
    "\n",
    "numbers_y = [75, 65, 35, 75, 30]\n",
    "result is False\n",
    "```"
   ]
  },
  {
   "cell_type": "code",
   "execution_count": 45,
   "id": "242e0d0a",
   "metadata": {},
   "outputs": [
    {
     "name": "stdout",
     "output_type": "stream",
     "text": [
      "Given list:  [10, 20, 30, 40, 10]\n",
      "result is True\n",
      "Given list:  [75, 65, 35, 75, 30]\n",
      "result is False\n"
     ]
    }
   ],
   "source": [
    "def firstnlast(x):\n",
    "    print(\"Given list: \",x)\n",
    "    if(x[0]==x[len(x)-1]):\n",
    "        return True\n",
    "    return False\n",
    "numbers_x = [10, 20, 30, 40, 10]\n",
    "numbers_y = [75, 65, 35, 75, 30]\n",
    "\n",
    "print('result is',str(firstnlast(numbers_x)))\n",
    "print('result is',str(firstnlast(numbers_y)))"
   ]
  }
 ],
 "metadata": {
  "kernelspec": {
   "display_name": "Python 3",
   "language": "python",
   "name": "python3"
  },
  "language_info": {
   "codemirror_mode": {
    "name": "ipython",
    "version": 3
   },
   "file_extension": ".py",
   "mimetype": "text/x-python",
   "name": "python",
   "nbconvert_exporter": "python",
   "pygments_lexer": "ipython3",
   "version": "3.9.4"
  }
 },
 "nbformat": 4,
 "nbformat_minor": 5
}
